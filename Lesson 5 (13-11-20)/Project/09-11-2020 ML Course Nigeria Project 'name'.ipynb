{
  "nbformat": 4,
  "nbformat_minor": 0,
  "metadata": {
    "kernelspec": {
      "display_name": "Python 3",
      "language": "python",
      "name": "python3"
    },
    "language_info": {
      "codemirror_mode": {
        "name": "ipython",
        "version": 3
      },
      "file_extension": ".py",
      "mimetype": "text/x-python",
      "name": "python",
      "nbconvert_exporter": "python",
      "pygments_lexer": "ipython3",
      "version": "3.7.6"
    },
    "colab": {
      "name": "09-11-2020 ML Course Nigeria Project 'name'.ipynb",
      "provenance": [],
      "include_colab_link": true
    }
  },
  "cells": [
    {
      "cell_type": "markdown",
      "metadata": {
        "id": "view-in-github",
        "colab_type": "text"
      },
      "source": [
        "<a href=\"https://colab.research.google.com/github/busgandy/Global-AI-Hub/blob/main/Lesson%205%20(13-11-20)/Project/09-11-2020%20ML%20Course%20Nigeria%20Project%20'name'.ipynb\" target=\"_parent\"><img src=\"https://colab.research.google.com/assets/colab-badge.svg\" alt=\"Open In Colab\"/></a>"
      ]
    },
    {
      "cell_type": "markdown",
      "metadata": {
        "id": "kVQChb-QMhtr"
      },
      "source": [
        ""
      ]
    },
    {
      "cell_type": "markdown",
      "metadata": {
        "id": "oIENAOYCJjc7"
      },
      "source": [
        "# Project\n",
        "\n",
        "In this project, our aim is to building a model for predicting churn. Churn is the percentage of customers that stopped using your company's product or service during a certain time frame. Thus, in the given dataset, our label will be `Churn` column.\n",
        "\n",
        "## Steps\n",
        "- Read the `churn.csv` file and describe it.\n",
        "- Make at least 4 different analysis on Exploratory Data Analysis section.\n",
        "- Pre-process the dataset to get ready for ML application. (Check missing data and handle them, can we need to do scaling or feature extraction etc.)\n",
        "- Define appropriate evaluation metric for our case (classification).\n",
        "- Train and evaluate Logistic Regression, Decision Trees and one other appropriate algorithm which you can choose from scikit-learn library.\n",
        "- Is there any overfitting and underfitting? Interpret your results and try to overcome if there is any problem in a new section.\n",
        "- Create confusion metrics for each algorithm and display Accuracy, Recall, Precision and F1-Score values.\n",
        "- Analyse and compare results of 3 algorithms.\n",
        "- Select best performing model based on evaluation metric you chose on test dataset.\n",
        "\n",
        "\n",
        "Good luck :)"
      ]
    },
    {
      "cell_type": "markdown",
      "metadata": {
        "id": "vcKd6V8eJjdD"
      },
      "source": [
        "<h2>Busayo Olushola</h2>"
      ]
    },
    {
      "cell_type": "markdown",
      "metadata": {
        "id": "zM2aOr2_JjdE"
      },
      "source": [
        "# Data"
      ]
    },
    {
      "cell_type": "code",
      "metadata": {
        "id": "xfyMeDiiJjdF"
      },
      "source": [
        "import pandas as pd\n",
        "import seaborn as sns\n",
        "import numpy as np\n",
        "import matplotlib.pyplot as plt\n",
        "sns.set_style('darkgrid')"
      ],
      "execution_count": 125,
      "outputs": []
    },
    {
      "cell_type": "code",
      "metadata": {
        "id": "zIpRdZhHJjdN",
        "outputId": "d18028dc-21fb-46af-f886-ddd191be56d2",
        "colab": {
          "base_uri": "https://localhost:8080/",
          "height": 189
        }
      },
      "source": [
        "# Read csv\n",
        "data = pd.read_csv(\"https://github.com/busgandy/Global-AI-Hub/blob/main/Lesson%205%20(13-11-20)/Project/churn.csv?raw=true\")\n",
        "data.head()"
      ],
      "execution_count": 126,
      "outputs": [
        {
          "output_type": "execute_result",
          "data": {
            "text/html": [
              "<div>\n",
              "<style scoped>\n",
              "    .dataframe tbody tr th:only-of-type {\n",
              "        vertical-align: middle;\n",
              "    }\n",
              "\n",
              "    .dataframe tbody tr th {\n",
              "        vertical-align: top;\n",
              "    }\n",
              "\n",
              "    .dataframe thead th {\n",
              "        text-align: right;\n",
              "    }\n",
              "</style>\n",
              "<table border=\"1\" class=\"dataframe\">\n",
              "  <thead>\n",
              "    <tr style=\"text-align: right;\">\n",
              "      <th></th>\n",
              "      <th>Churn</th>\n",
              "      <th>AccountWeeks</th>\n",
              "      <th>ContractRenewal</th>\n",
              "      <th>DataPlan</th>\n",
              "      <th>DataUsage</th>\n",
              "      <th>CustServCalls</th>\n",
              "      <th>DayMins</th>\n",
              "      <th>DayCalls</th>\n",
              "      <th>MonthlyCharge</th>\n",
              "      <th>OverageFee</th>\n",
              "      <th>RoamMins</th>\n",
              "    </tr>\n",
              "  </thead>\n",
              "  <tbody>\n",
              "    <tr>\n",
              "      <th>0</th>\n",
              "      <td>0</td>\n",
              "      <td>128</td>\n",
              "      <td>1</td>\n",
              "      <td>1</td>\n",
              "      <td>2.7</td>\n",
              "      <td>1</td>\n",
              "      <td>265.1</td>\n",
              "      <td>110</td>\n",
              "      <td>89.0</td>\n",
              "      <td>9.87</td>\n",
              "      <td>10.0</td>\n",
              "    </tr>\n",
              "    <tr>\n",
              "      <th>1</th>\n",
              "      <td>0</td>\n",
              "      <td>107</td>\n",
              "      <td>1</td>\n",
              "      <td>1</td>\n",
              "      <td>3.7</td>\n",
              "      <td>1</td>\n",
              "      <td>161.6</td>\n",
              "      <td>123</td>\n",
              "      <td>82.0</td>\n",
              "      <td>9.78</td>\n",
              "      <td>13.7</td>\n",
              "    </tr>\n",
              "    <tr>\n",
              "      <th>2</th>\n",
              "      <td>0</td>\n",
              "      <td>137</td>\n",
              "      <td>1</td>\n",
              "      <td>0</td>\n",
              "      <td>0.0</td>\n",
              "      <td>0</td>\n",
              "      <td>243.4</td>\n",
              "      <td>114</td>\n",
              "      <td>52.0</td>\n",
              "      <td>6.06</td>\n",
              "      <td>12.2</td>\n",
              "    </tr>\n",
              "    <tr>\n",
              "      <th>3</th>\n",
              "      <td>0</td>\n",
              "      <td>84</td>\n",
              "      <td>0</td>\n",
              "      <td>0</td>\n",
              "      <td>0.0</td>\n",
              "      <td>2</td>\n",
              "      <td>299.4</td>\n",
              "      <td>71</td>\n",
              "      <td>57.0</td>\n",
              "      <td>3.10</td>\n",
              "      <td>6.6</td>\n",
              "    </tr>\n",
              "    <tr>\n",
              "      <th>4</th>\n",
              "      <td>0</td>\n",
              "      <td>75</td>\n",
              "      <td>0</td>\n",
              "      <td>0</td>\n",
              "      <td>0.0</td>\n",
              "      <td>3</td>\n",
              "      <td>166.7</td>\n",
              "      <td>113</td>\n",
              "      <td>41.0</td>\n",
              "      <td>7.42</td>\n",
              "      <td>10.1</td>\n",
              "    </tr>\n",
              "  </tbody>\n",
              "</table>\n",
              "</div>"
            ],
            "text/plain": [
              "   Churn  AccountWeeks  ContractRenewal  ...  MonthlyCharge  OverageFee  RoamMins\n",
              "0      0           128                1  ...           89.0        9.87      10.0\n",
              "1      0           107                1  ...           82.0        9.78      13.7\n",
              "2      0           137                1  ...           52.0        6.06      12.2\n",
              "3      0            84                0  ...           57.0        3.10       6.6\n",
              "4      0            75                0  ...           41.0        7.42      10.1\n",
              "\n",
              "[5 rows x 11 columns]"
            ]
          },
          "metadata": {
            "tags": []
          },
          "execution_count": 126
        }
      ]
    },
    {
      "cell_type": "code",
      "metadata": {
        "id": "4NIpdzk2JjdV",
        "outputId": "778ca005-59a4-432e-c00a-b4c4492bf6bc",
        "colab": {
          "base_uri": "https://localhost:8080/"
        }
      },
      "source": [
        "data[\"ContractRenewal\"].unique()"
      ],
      "execution_count": 127,
      "outputs": [
        {
          "output_type": "execute_result",
          "data": {
            "text/plain": [
              "array([1, 0])"
            ]
          },
          "metadata": {
            "tags": []
          },
          "execution_count": 127
        }
      ]
    },
    {
      "cell_type": "code",
      "metadata": {
        "id": "wThxo6i9Jjda",
        "outputId": "2f998c4a-9d94-49b6-ae34-d30480948cb9",
        "colab": {
          "base_uri": "https://localhost:8080/"
        }
      },
      "source": [
        "data[\"DataPlan\"].unique()"
      ],
      "execution_count": 128,
      "outputs": [
        {
          "output_type": "execute_result",
          "data": {
            "text/plain": [
              "array([1, 0])"
            ]
          },
          "metadata": {
            "tags": []
          },
          "execution_count": 128
        }
      ]
    },
    {
      "cell_type": "code",
      "metadata": {
        "id": "Ec1HRMNZJjdg"
      },
      "source": [
        "# Describe our data for each feature and use .info() for get information about our dataset\n",
        "# Analys missing values"
      ],
      "execution_count": 129,
      "outputs": []
    },
    {
      "cell_type": "code",
      "metadata": {
        "id": "ENHaURJWJjdl",
        "outputId": "00b7dcae-756a-4467-8c5a-2e80bf441823",
        "colab": {
          "base_uri": "https://localhost:8080/"
        }
      },
      "source": [
        "data.info()"
      ],
      "execution_count": 130,
      "outputs": [
        {
          "output_type": "stream",
          "text": [
            "<class 'pandas.core.frame.DataFrame'>\n",
            "RangeIndex: 3333 entries, 0 to 3332\n",
            "Data columns (total 11 columns):\n",
            " #   Column           Non-Null Count  Dtype  \n",
            "---  ------           --------------  -----  \n",
            " 0   Churn            3333 non-null   int64  \n",
            " 1   AccountWeeks     3333 non-null   int64  \n",
            " 2   ContractRenewal  3333 non-null   int64  \n",
            " 3   DataPlan         3333 non-null   int64  \n",
            " 4   DataUsage        3333 non-null   float64\n",
            " 5   CustServCalls    3333 non-null   int64  \n",
            " 6   DayMins          3333 non-null   float64\n",
            " 7   DayCalls         3333 non-null   int64  \n",
            " 8   MonthlyCharge    3333 non-null   float64\n",
            " 9   OverageFee       3333 non-null   float64\n",
            " 10  RoamMins         3333 non-null   float64\n",
            "dtypes: float64(5), int64(6)\n",
            "memory usage: 286.6 KB\n"
          ],
          "name": "stdout"
        }
      ]
    },
    {
      "cell_type": "code",
      "metadata": {
        "id": "gwqyuXsnJjdr",
        "outputId": "0be4fb30-26e2-4408-e85d-26856b0c0a56",
        "colab": {
          "base_uri": "https://localhost:8080/"
        }
      },
      "source": [
        "data.isna().sum()"
      ],
      "execution_count": 131,
      "outputs": [
        {
          "output_type": "execute_result",
          "data": {
            "text/plain": [
              "Churn              0\n",
              "AccountWeeks       0\n",
              "ContractRenewal    0\n",
              "DataPlan           0\n",
              "DataUsage          0\n",
              "CustServCalls      0\n",
              "DayMins            0\n",
              "DayCalls           0\n",
              "MonthlyCharge      0\n",
              "OverageFee         0\n",
              "RoamMins           0\n",
              "dtype: int64"
            ]
          },
          "metadata": {
            "tags": []
          },
          "execution_count": 131
        }
      ]
    },
    {
      "cell_type": "markdown",
      "metadata": {
        "id": "_85c_gQHJjdx"
      },
      "source": [
        "# Exploratory Data Analysis"
      ]
    },
    {
      "cell_type": "code",
      "metadata": {
        "id": "KjkfdcBFJjdy"
      },
      "source": [
        "# Our label Distribution (countplot)\n"
      ],
      "execution_count": 132,
      "outputs": []
    },
    {
      "cell_type": "code",
      "metadata": {
        "id": "L-oLC03AJjd3",
        "outputId": "8337acc1-e074-4423-f828-b44bb58c6113",
        "colab": {
          "base_uri": "https://localhost:8080/",
          "height": 294
        }
      },
      "source": [
        "data[\"Churn\"].value_counts().plot.bar()\n",
        "plt.ylabel('counts')\n",
        "plt.xlabel('Churn')"
      ],
      "execution_count": 133,
      "outputs": [
        {
          "output_type": "execute_result",
          "data": {
            "text/plain": [
              "Text(0.5, 0, 'Churn')"
            ]
          },
          "metadata": {
            "tags": []
          },
          "execution_count": 133
        },
        {
          "output_type": "display_data",
          "data": {
            "image/png": "[encoded data removed]",
            "text/plain": [
              "<Figure size 432x288 with 1 Axes>"
            ]
          },
          "metadata": {
            "tags": []
          }
        }
      ]
    },
    {
      "cell_type": "code",
      "metadata": {
        "id": "yhnTWmqfJjd7",
        "outputId": "76542ff7-3ba2-447c-8650-27d1d02f0ea2",
        "colab": {
          "base_uri": "https://localhost:8080/",
          "height": 294
        }
      },
      "source": [
        "data[\"ContractRenewal\"].value_counts().plot.bar()\n",
        "plt.ylabel(\"counts\")\n",
        "plt.xlabel(\"ContractRenewal\")"
      ],
      "execution_count": 134,
      "outputs": [
        {
          "output_type": "execute_result",
          "data": {
            "text/plain": [
              "Text(0.5, 0, 'ContractRenewal')"
            ]
          },
          "metadata": {
            "tags": []
          },
          "execution_count": 134
        },
        {
          "output_type": "display_data",
          "data": {
            "image/png": "[encoded data removed]",
            "text/plain": [
              "<Figure size 432x288 with 1 Axes>"
            ]
          },
          "metadata": {
            "tags": []
          }
        }
      ]
    },
    {
      "cell_type": "code",
      "metadata": {
        "id": "ZijtBzkcJjeB",
        "outputId": "e91186a7-f3bc-4b25-d63e-084a74cad889",
        "colab": {
          "base_uri": "https://localhost:8080/",
          "height": 295
        }
      },
      "source": [
        "data[\"DataPlan\"].value_counts().plot.bar()\n",
        "plt.ylabel(\"counts\")\n",
        "plt.xlabel(\"DataPlan\")"
      ],
      "execution_count": 135,
      "outputs": [
        {
          "output_type": "execute_result",
          "data": {
            "text/plain": [
              "Text(0.5, 0, 'DataPlan')"
            ]
          },
          "metadata": {
            "tags": []
          },
          "execution_count": 135
        },
        {
          "output_type": "display_data",
          "data": {
            "image/png": "[encoded data removed]",
            "text/plain": [
              "<Figure size 432x288 with 1 Axes>"
            ]
          },
          "metadata": {
            "tags": []
          }
        }
      ]
    },
    {
      "cell_type": "code",
      "metadata": {
        "id": "Nj5hhvqLJjeK",
        "outputId": "fc20d41c-abb7-4f10-cf9f-ac38d80174c6",
        "colab": {
          "base_uri": "https://localhost:8080/",
          "height": 353
        }
      },
      "source": [
        "# Example EDA\n",
        "sns.distplot(data[\"AccountWeeks\"])\n",
        "plt.ylabel(\"counts\")"
      ],
      "execution_count": 136,
      "outputs": [
        {
          "output_type": "stream",
          "text": [
            "/usr/local/lib/python3.6/dist-packages/seaborn/distributions.py:2551: FutureWarning: `distplot` is a deprecated function and will be removed in a future version. Please adapt your code to use either `displot` (a figure-level function with similar flexibility) or `histplot` (an axes-level function for histograms).\n",
            "  warnings.warn(msg, FutureWarning)\n"
          ],
          "name": "stderr"
        },
        {
          "output_type": "execute_result",
          "data": {
            "text/plain": [
              "Text(0, 0.5, 'counts')"
            ]
          },
          "metadata": {
            "tags": []
          },
          "execution_count": 136
        },
        {
          "output_type": "display_data",
          "data": {
            "image/png": "[encoded data removed]",
            "text/plain": [
              "<Figure size 432x288 with 1 Axes>"
            ]
          },
          "metadata": {
            "tags": []
          }
        }
      ]
    },
    {
      "cell_type": "code",
      "metadata": {
        "id": "-f48C5v1OLCp",
        "outputId": "bac0d5ef-c465-4bf9-fef7-2b106d6f02f0",
        "colab": {
          "base_uri": "https://localhost:8080/",
          "height": 353
        }
      },
      "source": [
        "# Example EDA\n",
        "sns.distplot(data[\"DayCalls\"])\n",
        "plt.ylabel(\"counts\")"
      ],
      "execution_count": 137,
      "outputs": [
        {
          "output_type": "stream",
          "text": [
            "/usr/local/lib/python3.6/dist-packages/seaborn/distributions.py:2551: FutureWarning: `distplot` is a deprecated function and will be removed in a future version. Please adapt your code to use either `displot` (a figure-level function with similar flexibility) or `histplot` (an axes-level function for histograms).\n",
            "  warnings.warn(msg, FutureWarning)\n"
          ],
          "name": "stderr"
        },
        {
          "output_type": "execute_result",
          "data": {
            "text/plain": [
              "Text(0, 0.5, 'counts')"
            ]
          },
          "metadata": {
            "tags": []
          },
          "execution_count": 137
        },
        {
          "output_type": "display_data",
          "data": {
            "image/png": "[encoded data removed]",
            "text/plain": [
              "<Figure size 432x288 with 1 Axes>"
            ]
          },
          "metadata": {
            "tags": []
          }
        }
      ]
    },
    {
      "cell_type": "markdown",
      "metadata": {
        "id": "jiLRZH9dJjeP"
      },
      "source": [
        "# Preprocessing\n",
        "\n",
        "- Are there any duplicated values?\n",
        "- Do we need to do feature scaling?\n",
        "- Do we need to generate new features?\n",
        "- Split Train and Test dataset. (0.7/0.3)"
      ]
    },
    {
      "cell_type": "markdown",
      "metadata": {
        "id": "hjx3hKj3PMpG"
      },
      "source": [
        "1.   **Are there any duplicated values?**"
      ]
    },
    {
      "cell_type": "code",
      "metadata": {
        "id": "dSrndHC4JjeR",
        "outputId": "df618929-43b3-4224-ca41-6cffc48ade4f",
        "colab": {
          "base_uri": "https://localhost:8080/"
        }
      },
      "source": [
        "# Check for duplicated values\n",
        "data.duplicated().sum()"
      ],
      "execution_count": 138,
      "outputs": [
        {
          "output_type": "execute_result",
          "data": {
            "text/plain": [
              "0"
            ]
          },
          "metadata": {
            "tags": []
          },
          "execution_count": 138
        }
      ]
    },
    {
      "cell_type": "markdown",
      "metadata": {
        "id": "tZuOBOLkPaS0"
      },
      "source": [
        "No, there are no Duplicated values in the dataset"
      ]
    },
    {
      "cell_type": "code",
      "metadata": {
        "id": "piMyQ-gLJjeW",
        "outputId": "6c4a0e61-c9bb-4ea3-e894-bdb4a413ae22",
        "colab": {
          "base_uri": "https://localhost:8080/"
        }
      },
      "source": [
        "data.columns"
      ],
      "execution_count": 139,
      "outputs": [
        {
          "output_type": "execute_result",
          "data": {
            "text/plain": [
              "Index(['Churn', 'AccountWeeks', 'ContractRenewal', 'DataPlan', 'DataUsage',\n",
              "       'CustServCalls', 'DayMins', 'DayCalls', 'MonthlyCharge', 'OverageFee',\n",
              "       'RoamMins'],\n",
              "      dtype='object')"
            ]
          },
          "metadata": {
            "tags": []
          },
          "execution_count": 139
        }
      ]
    },
    {
      "cell_type": "markdown",
      "metadata": {
        "id": "gb9FA_gsP88G"
      },
      "source": [
        "2.   **Do we need to do feature scaling?**\n",
        "\n"
      ]
    },
    {
      "cell_type": "markdown",
      "metadata": {
        "id": "VVVlPlmFQ0Va"
      },
      "source": [
        "Yes, we need feature scaling"
      ]
    },
    {
      "cell_type": "code",
      "metadata": {
        "id": "ZixfZZDNJjeh"
      },
      "source": [
        "from sklearn.preprocessing import StandardScaler"
      ],
      "execution_count": 140,
      "outputs": []
    },
    {
      "cell_type": "code",
      "metadata": {
        "id": "AQ-VuPkXJjel"
      },
      "source": [
        "std = StandardScaler()"
      ],
      "execution_count": 141,
      "outputs": []
    },
    {
      "cell_type": "code",
      "metadata": {
        "id": "zuEOEOs8Jjep"
      },
      "source": [
        "df = std.fit_transform(data.drop(columns = [\"Churn\",\"ContractRenewal\",\"DataPlan\"]))"
      ],
      "execution_count": 142,
      "outputs": []
    },
    {
      "cell_type": "code",
      "metadata": {
        "id": "AlEQX4WfJjev",
        "outputId": "33cdf67c-3a7b-4e6a-9805-845246943908",
        "colab": {
          "base_uri": "https://localhost:8080/"
        }
      },
      "source": [
        "df"
      ],
      "execution_count": 143,
      "outputs": [
        {
          "output_type": "execute_result",
          "data": {
            "text/plain": [
              "array([[ 0.67648946,  1.48020373, -0.42793202, ...,  1.99072703,\n",
              "        -0.0715836 , -0.08500823],\n",
              "       [ 0.14906505,  2.26607248, -0.42793202, ...,  1.56451025,\n",
              "        -0.10708191,  1.24048169],\n",
              "       [ 0.9025285 , -0.64164192, -1.1882185 , ..., -0.26213309,\n",
              "        -1.57434567,  0.70312091],\n",
              "       ...,\n",
              "       [-1.83505538, -0.64164192,  0.33235445, ..., -0.01858065,\n",
              "         1.73094204,  1.3837779 ],\n",
              "       [ 2.08295458, -0.64164192,  0.33235445, ..., -0.38390932,\n",
              "        -0.81704825, -1.87621082],\n",
              "       [-0.67974475,  2.26607248, -1.1882185 , ...,  2.66049626,\n",
              "         1.28129669,  1.24048169]])"
            ]
          },
          "metadata": {
            "tags": []
          },
          "execution_count": 143
        }
      ]
    },
    {
      "cell_type": "code",
      "metadata": {
        "id": "T-h2jthYJjez"
      },
      "source": [
        "df1 = pd.DataFrame(columns = ('AccountWeeks','CustServCalls', 'DataUsage', 'DayMins', 'DayCalls', 'MonthlyCharge', 'OverageFee', 'RoamMins'), data =df)"
      ],
      "execution_count": 144,
      "outputs": []
    },
    {
      "cell_type": "code",
      "metadata": {
        "scrolled": true,
        "id": "hevMB7CKJje5",
        "outputId": "e628cb77-5fa5-4086-897a-5d766e0c99ce",
        "colab": {
          "base_uri": "https://localhost:8080/",
          "height": 189
        }
      },
      "source": [
        "df1.head()"
      ],
      "execution_count": 145,
      "outputs": [
        {
          "output_type": "execute_result",
          "data": {
            "text/html": [
              "<div>\n",
              "<style scoped>\n",
              "    .dataframe tbody tr th:only-of-type {\n",
              "        vertical-align: middle;\n",
              "    }\n",
              "\n",
              "    .dataframe tbody tr th {\n",
              "        vertical-align: top;\n",
              "    }\n",
              "\n",
              "    .dataframe thead th {\n",
              "        text-align: right;\n",
              "    }\n",
              "</style>\n",
              "<table border=\"1\" class=\"dataframe\">\n",
              "  <thead>\n",
              "    <tr style=\"text-align: right;\">\n",
              "      <th></th>\n",
              "      <th>AccountWeeks</th>\n",
              "      <th>CustServCalls</th>\n",
              "      <th>DataUsage</th>\n",
              "      <th>DayMins</th>\n",
              "      <th>DayCalls</th>\n",
              "      <th>MonthlyCharge</th>\n",
              "      <th>OverageFee</th>\n",
              "      <th>RoamMins</th>\n",
              "    </tr>\n",
              "  </thead>\n",
              "  <tbody>\n",
              "    <tr>\n",
              "      <th>0</th>\n",
              "      <td>0.676489</td>\n",
              "      <td>1.480204</td>\n",
              "      <td>-0.427932</td>\n",
              "      <td>1.566767</td>\n",
              "      <td>0.476643</td>\n",
              "      <td>1.990727</td>\n",
              "      <td>-0.071584</td>\n",
              "      <td>-0.085008</td>\n",
              "    </tr>\n",
              "    <tr>\n",
              "      <th>1</th>\n",
              "      <td>0.149065</td>\n",
              "      <td>2.266072</td>\n",
              "      <td>-0.427932</td>\n",
              "      <td>-0.333738</td>\n",
              "      <td>1.124503</td>\n",
              "      <td>1.564510</td>\n",
              "      <td>-0.107082</td>\n",
              "      <td>1.240482</td>\n",
              "    </tr>\n",
              "    <tr>\n",
              "      <th>2</th>\n",
              "      <td>0.902529</td>\n",
              "      <td>-0.641642</td>\n",
              "      <td>-1.188218</td>\n",
              "      <td>1.168304</td>\n",
              "      <td>0.675985</td>\n",
              "      <td>-0.262133</td>\n",
              "      <td>-1.574346</td>\n",
              "      <td>0.703121</td>\n",
              "    </tr>\n",
              "    <tr>\n",
              "      <th>3</th>\n",
              "      <td>-0.428590</td>\n",
              "      <td>-0.641642</td>\n",
              "      <td>0.332354</td>\n",
              "      <td>2.196596</td>\n",
              "      <td>-1.466936</td>\n",
              "      <td>0.042307</td>\n",
              "      <td>-2.741846</td>\n",
              "      <td>-1.303026</td>\n",
              "    </tr>\n",
              "    <tr>\n",
              "      <th>4</th>\n",
              "      <td>-0.654629</td>\n",
              "      <td>-0.641642</td>\n",
              "      <td>1.092641</td>\n",
              "      <td>-0.240090</td>\n",
              "      <td>0.626149</td>\n",
              "      <td>-0.931902</td>\n",
              "      <td>-1.037927</td>\n",
              "      <td>-0.049184</td>\n",
              "    </tr>\n",
              "  </tbody>\n",
              "</table>\n",
              "</div>"
            ],
            "text/plain": [
              "   AccountWeeks  CustServCalls  DataUsage  ...  MonthlyCharge  OverageFee  RoamMins\n",
              "0      0.676489       1.480204  -0.427932  ...       1.990727   -0.071584 -0.085008\n",
              "1      0.149065       2.266072  -0.427932  ...       1.564510   -0.107082  1.240482\n",
              "2      0.902529      -0.641642  -1.188218  ...      -0.262133   -1.574346  0.703121\n",
              "3     -0.428590      -0.641642   0.332354  ...       0.042307   -2.741846 -1.303026\n",
              "4     -0.654629      -0.641642   1.092641  ...      -0.931902   -1.037927 -0.049184\n",
              "\n",
              "[5 rows x 8 columns]"
            ]
          },
          "metadata": {
            "tags": []
          },
          "execution_count": 145
        }
      ]
    },
    {
      "cell_type": "code",
      "metadata": {
        "id": "PNtM7YNmJje-"
      },
      "source": [
        "df1[\"Churn\"] = data[\"Churn\"]"
      ],
      "execution_count": 146,
      "outputs": []
    },
    {
      "cell_type": "code",
      "metadata": {
        "id": "uNngwGreJjfC"
      },
      "source": [
        "df1[\"ContractRenewal\"] = data[\"ContractRenewal\"]"
      ],
      "execution_count": 147,
      "outputs": []
    },
    {
      "cell_type": "code",
      "metadata": {
        "id": "l1wHzSAfJjfF"
      },
      "source": [
        "df1[\"DataPlan\"] = data[\"DataPlan\"]"
      ],
      "execution_count": 148,
      "outputs": []
    },
    {
      "cell_type": "code",
      "metadata": {
        "id": "c1jLlMOoJjfM",
        "outputId": "26e61e5a-206d-41a6-e620-d55a53fbd280",
        "colab": {
          "base_uri": "https://localhost:8080/",
          "height": 189
        }
      },
      "source": [
        "df1.head()"
      ],
      "execution_count": 149,
      "outputs": [
        {
          "output_type": "execute_result",
          "data": {
            "text/html": [
              "<div>\n",
              "<style scoped>\n",
              "    .dataframe tbody tr th:only-of-type {\n",
              "        vertical-align: middle;\n",
              "    }\n",
              "\n",
              "    .dataframe tbody tr th {\n",
              "        vertical-align: top;\n",
              "    }\n",
              "\n",
              "    .dataframe thead th {\n",
              "        text-align: right;\n",
              "    }\n",
              "</style>\n",
              "<table border=\"1\" class=\"dataframe\">\n",
              "  <thead>\n",
              "    <tr style=\"text-align: right;\">\n",
              "      <th></th>\n",
              "      <th>AccountWeeks</th>\n",
              "      <th>CustServCalls</th>\n",
              "      <th>DataUsage</th>\n",
              "      <th>DayMins</th>\n",
              "      <th>DayCalls</th>\n",
              "      <th>MonthlyCharge</th>\n",
              "      <th>OverageFee</th>\n",
              "      <th>RoamMins</th>\n",
              "      <th>Churn</th>\n",
              "      <th>ContractRenewal</th>\n",
              "      <th>DataPlan</th>\n",
              "    </tr>\n",
              "  </thead>\n",
              "  <tbody>\n",
              "    <tr>\n",
              "      <th>0</th>\n",
              "      <td>0.676489</td>\n",
              "      <td>1.480204</td>\n",
              "      <td>-0.427932</td>\n",
              "      <td>1.566767</td>\n",
              "      <td>0.476643</td>\n",
              "      <td>1.990727</td>\n",
              "      <td>-0.071584</td>\n",
              "      <td>-0.085008</td>\n",
              "      <td>0</td>\n",
              "      <td>1</td>\n",
              "      <td>1</td>\n",
              "    </tr>\n",
              "    <tr>\n",
              "      <th>1</th>\n",
              "      <td>0.149065</td>\n",
              "      <td>2.266072</td>\n",
              "      <td>-0.427932</td>\n",
              "      <td>-0.333738</td>\n",
              "      <td>1.124503</td>\n",
              "      <td>1.564510</td>\n",
              "      <td>-0.107082</td>\n",
              "      <td>1.240482</td>\n",
              "      <td>0</td>\n",
              "      <td>1</td>\n",
              "      <td>1</td>\n",
              "    </tr>\n",
              "    <tr>\n",
              "      <th>2</th>\n",
              "      <td>0.902529</td>\n",
              "      <td>-0.641642</td>\n",
              "      <td>-1.188218</td>\n",
              "      <td>1.168304</td>\n",
              "      <td>0.675985</td>\n",
              "      <td>-0.262133</td>\n",
              "      <td>-1.574346</td>\n",
              "      <td>0.703121</td>\n",
              "      <td>0</td>\n",
              "      <td>1</td>\n",
              "      <td>0</td>\n",
              "    </tr>\n",
              "    <tr>\n",
              "      <th>3</th>\n",
              "      <td>-0.428590</td>\n",
              "      <td>-0.641642</td>\n",
              "      <td>0.332354</td>\n",
              "      <td>2.196596</td>\n",
              "      <td>-1.466936</td>\n",
              "      <td>0.042307</td>\n",
              "      <td>-2.741846</td>\n",
              "      <td>-1.303026</td>\n",
              "      <td>0</td>\n",
              "      <td>0</td>\n",
              "      <td>0</td>\n",
              "    </tr>\n",
              "    <tr>\n",
              "      <th>4</th>\n",
              "      <td>-0.654629</td>\n",
              "      <td>-0.641642</td>\n",
              "      <td>1.092641</td>\n",
              "      <td>-0.240090</td>\n",
              "      <td>0.626149</td>\n",
              "      <td>-0.931902</td>\n",
              "      <td>-1.037927</td>\n",
              "      <td>-0.049184</td>\n",
              "      <td>0</td>\n",
              "      <td>0</td>\n",
              "      <td>0</td>\n",
              "    </tr>\n",
              "  </tbody>\n",
              "</table>\n",
              "</div>"
            ],
            "text/plain": [
              "   AccountWeeks  CustServCalls  DataUsage  ...  Churn  ContractRenewal  DataPlan\n",
              "0      0.676489       1.480204  -0.427932  ...      0                1         1\n",
              "1      0.149065       2.266072  -0.427932  ...      0                1         1\n",
              "2      0.902529      -0.641642  -1.188218  ...      0                1         0\n",
              "3     -0.428590      -0.641642   0.332354  ...      0                0         0\n",
              "4     -0.654629      -0.641642   1.092641  ...      0                0         0\n",
              "\n",
              "[5 rows x 11 columns]"
            ]
          },
          "metadata": {
            "tags": []
          },
          "execution_count": 149
        }
      ]
    },
    {
      "cell_type": "markdown",
      "metadata": {
        "id": "nngmlSqLQUei"
      },
      "source": [
        "3. **Do we need to generate new features?**\n",
        "\n"
      ]
    },
    {
      "cell_type": "markdown",
      "metadata": {
        "id": "VShVZyC9QsEb"
      },
      "source": [
        "No, we do not need to generate new features"
      ]
    },
    {
      "cell_type": "markdown",
      "metadata": {
        "id": "fh-IfUYhRHXA"
      },
      "source": [
        "4.   **Split Train and Test dataset. (0.7/0.3)**\n",
        "\n"
      ]
    },
    {
      "cell_type": "markdown",
      "metadata": {
        "id": "A74cNqEZRQAe"
      },
      "source": [
        "Splitting the dataset into 70% Train and 30% Test"
      ]
    },
    {
      "cell_type": "code",
      "metadata": {
        "id": "DOaQ73j0JjfU"
      },
      "source": [
        "from sklearn.model_selection import train_test_split"
      ],
      "execution_count": 150,
      "outputs": []
    },
    {
      "cell_type": "code",
      "metadata": {
        "id": "DQ_grw2nJjfY"
      },
      "source": [
        "X_train, X_test, y_train, y_test = train_test_split(df1.drop('Churn', axis=1), df1['Churn'], test_size=0.3, random_state=42)\n"
      ],
      "execution_count": 151,
      "outputs": []
    },
    {
      "cell_type": "code",
      "metadata": {
        "id": "S2p16Q6PJjfb",
        "outputId": "dacf5049-dec2-4f5a-e37d-59074727df33",
        "colab": {
          "base_uri": "https://localhost:8080/"
        }
      },
      "source": [
        "X_test.shape"
      ],
      "execution_count": 152,
      "outputs": [
        {
          "output_type": "execute_result",
          "data": {
            "text/plain": [
              "(1000, 10)"
            ]
          },
          "metadata": {
            "tags": []
          },
          "execution_count": 152
        }
      ]
    },
    {
      "cell_type": "code",
      "metadata": {
        "id": "-dz2PecmJjfg",
        "outputId": "95ce7d3d-f804-4240-ff88-9d85a9d1456f",
        "colab": {
          "base_uri": "https://localhost:8080/"
        }
      },
      "source": [
        "y_train.shape"
      ],
      "execution_count": 153,
      "outputs": [
        {
          "output_type": "execute_result",
          "data": {
            "text/plain": [
              "(2333,)"
            ]
          },
          "metadata": {
            "tags": []
          },
          "execution_count": 153
        }
      ]
    },
    {
      "cell_type": "code",
      "metadata": {
        "id": "hpLgUCldJjfm"
      },
      "source": [
        ""
      ],
      "execution_count": 153,
      "outputs": []
    },
    {
      "cell_type": "markdown",
      "metadata": {
        "id": "6G_Mo8DMJjfr"
      },
      "source": [
        "# ML Application\n",
        "\n",
        "- Define models.\n",
        "- Fit models.\n",
        "- Evaluate models for both train and test dataset.\n",
        "- Generate Confusion Matrix and scores of Accuracy, Recall, Precision and F1-Score.\n",
        "- Analyse occurrence of overfitting and underfitting. If there is any of them, try to overcome it within a different section."
      ]
    },
    {
      "cell_type": "markdown",
      "metadata": {
        "id": "3OYk-67lJjfs"
      },
      "source": [
        "**What is machine Learning Model?**\n",
        "\n",
        "A machine learning model is a file that has been trained to recognize certain types of patterns. You train a model over a set of data, providing it an algorithm that it can use to reason over and learn from those data.\n"
      ]
    },
    {
      "cell_type": "code",
      "metadata": {
        "id": "5AKDJhCcJjft"
      },
      "source": [
        "from concurrent.futures import ThreadPoolExecutor\n",
        "from sklearn.metrics import classification_report, confusion_matrix\n",
        "\n",
        "def model_testing(md):\n",
        "    with ThreadPoolExecutor(max_workers=2) as executor:\n",
        "        executor.submit(md.fit, X_train, y_train)\n",
        "    print(\"Training Accuracy: \", md.score(X_train, y_train), '\\n')\n",
        "    print(\"Testing Accuracy: \", md.score(X_test, y_test), '\\n')\n",
        "    print(classification_report(y_test, md.predict(X_test)))\n",
        "    return md.predict(data.drop(columns=['Churn']))\n"
      ],
      "execution_count": 154,
      "outputs": []
    },
    {
      "cell_type": "markdown",
      "metadata": {
        "id": "61u1TbBQJjfy"
      },
      "source": [
        "### Using Logistic Regression:"
      ]
    },
    {
      "cell_type": "code",
      "metadata": {
        "id": "FbHwCf10Jjfy"
      },
      "source": [
        "from sklearn.linear_model import LogisticRegression"
      ],
      "execution_count": 155,
      "outputs": []
    },
    {
      "cell_type": "code",
      "metadata": {
        "id": "HggFjp4ZJjf2"
      },
      "source": [
        "log = LogisticRegression(solver=\"liblinear\", C=10)"
      ],
      "execution_count": 156,
      "outputs": []
    },
    {
      "cell_type": "code",
      "metadata": {
        "id": "g35bxVr7Jjf6",
        "outputId": "44f48cd7-b14b-4ab7-9126-f14b96c39dd0",
        "colab": {
          "base_uri": "https://localhost:8080/"
        }
      },
      "source": [
        "model_testing(log)"
      ],
      "execution_count": 157,
      "outputs": [
        {
          "output_type": "stream",
          "text": [
            "Training Accuracy:  0.8576939562794685 \n",
            "\n",
            "Testing Accuracy:  0.867 \n",
            "\n",
            "              precision    recall  f1-score   support\n",
            "\n",
            "           0       0.88      0.98      0.93       857\n",
            "           1       0.60      0.20      0.30       143\n",
            "\n",
            "    accuracy                           0.87      1000\n",
            "   macro avg       0.74      0.59      0.62      1000\n",
            "weighted avg       0.84      0.87      0.84      1000\n",
            "\n"
          ],
          "name": "stdout"
        },
        {
          "output_type": "execute_result",
          "data": {
            "text/plain": [
              "array([1, 1, 1, ..., 1, 1, 1])"
            ]
          },
          "metadata": {
            "tags": []
          },
          "execution_count": 157
        }
      ]
    },
    {
      "cell_type": "code",
      "metadata": {
        "id": "CLiWDWlBVGMx",
        "outputId": "6e46ec40-ffe5-4357-b38e-8993f6081407",
        "colab": {
          "base_uri": "https://localhost:8080/"
        }
      },
      "source": [
        "log.intercept_"
      ],
      "execution_count": 158,
      "outputs": [
        {
          "output_type": "execute_result",
          "data": {
            "text/plain": [
              "array([-0.11086042])"
            ]
          },
          "metadata": {
            "tags": []
          },
          "execution_count": 158
        }
      ]
    },
    {
      "cell_type": "code",
      "metadata": {
        "id": "Yoga4DePVGTC",
        "outputId": "6f75418b-52e6-4440-e8f1-4f44d89c5759",
        "colab": {
          "base_uri": "https://localhost:8080/"
        }
      },
      "source": [
        "log.coef_"
      ],
      "execution_count": 159,
      "outputs": [
        {
          "output_type": "execute_result",
          "data": {
            "text/plain": [
              "array([[ 0.02252864, -0.34624143,  0.65281114,  0.38528946, -0.00320877,\n",
              "         0.42808604,  0.22277731,  0.27855759, -2.10606099, -0.84696892]])"
            ]
          },
          "metadata": {
            "tags": []
          },
          "execution_count": 159
        }
      ]
    },
    {
      "cell_type": "code",
      "metadata": {
        "id": "gJop0Qg4VGYY",
        "outputId": "2a569133-221e-4a4b-f31e-40d77e97bdb6",
        "colab": {
          "base_uri": "https://localhost:8080/"
        }
      },
      "source": [
        "log.predict_proba(X_train)"
      ],
      "execution_count": 160,
      "outputs": [
        {
          "output_type": "execute_result",
          "data": {
            "text/plain": [
              "array([[0.72396241, 0.27603759],\n",
              "       [0.95130788, 0.04869212],\n",
              "       [0.94455033, 0.05544967],\n",
              "       ...,\n",
              "       [0.96294855, 0.03705145],\n",
              "       [0.89667936, 0.10332064],\n",
              "       [0.99480863, 0.00519137]])"
            ]
          },
          "metadata": {
            "tags": []
          },
          "execution_count": 160
        }
      ]
    },
    {
      "cell_type": "code",
      "metadata": {
        "id": "qvAuo-qHVOnh",
        "outputId": "63836040-b908-4722-ce2b-50a2b879522a",
        "colab": {
          "base_uri": "https://localhost:8080/"
        }
      },
      "source": [
        "confusion_matrix(y_train, log.predict(X_train))"
      ],
      "execution_count": 161,
      "outputs": [
        {
          "output_type": "execute_result",
          "data": {
            "text/plain": [
              "array([[1937,   56],\n",
              "       [ 276,   64]])"
            ]
          },
          "metadata": {
            "tags": []
          },
          "execution_count": 161
        }
      ]
    },
    {
      "cell_type": "code",
      "metadata": {
        "id": "0xxAPWvRVOs5",
        "outputId": "64291dea-e20d-4601-fa07-d7b168f65066",
        "colab": {
          "base_uri": "https://localhost:8080/",
          "height": 283
        }
      },
      "source": [
        "c_matrix = confusion_matrix(y_train, log.predict(X_train))\n",
        "sns.heatmap(c_matrix, annot=True)"
      ],
      "execution_count": 162,
      "outputs": [
        {
          "output_type": "execute_result",
          "data": {
            "text/plain": [
              "<matplotlib.axes._subplots.AxesSubplot at 0x7f5965cc0ac8>"
            ]
          },
          "metadata": {
            "tags": []
          },
          "execution_count": 162
        },
        {
          "output_type": "display_data",
          "data": {
            "image/png": "[encoded data removed]",
            "text/plain": [
              "<Figure size 432x288 with 2 Axes>"
            ]
          },
          "metadata": {
            "tags": []
          }
        }
      ]
    },
    {
      "cell_type": "code",
      "metadata": {
        "id": "2wORPABkJjgA"
      },
      "source": [
        "from sklearn.model_selection import GridSearchCV"
      ],
      "execution_count": 163,
      "outputs": []
    },
    {
      "cell_type": "code",
      "metadata": {
        "id": "THHdsKEdJjgE"
      },
      "source": [
        "gsc = GridSearchCV(estimator = log, param_grid  = {\"C\": [0.1,0.01,0.001,10,1]}, cv= 5)"
      ],
      "execution_count": 164,
      "outputs": []
    },
    {
      "cell_type": "code",
      "metadata": {
        "id": "f7yiQ_zRJjgJ",
        "outputId": "6f5ea4a0-0493-4163-d04c-c40c348a51c8",
        "colab": {
          "base_uri": "https://localhost:8080/"
        }
      },
      "source": [
        "gsc.fit(X_train, y_train)"
      ],
      "execution_count": 165,
      "outputs": [
        {
          "output_type": "execute_result",
          "data": {
            "text/plain": [
              "GridSearchCV(cv=5, error_score=nan,\n",
              "             estimator=LogisticRegression(C=10, class_weight=None, dual=False,\n",
              "                                          fit_intercept=True,\n",
              "                                          intercept_scaling=1, l1_ratio=None,\n",
              "                                          max_iter=100, multi_class='auto',\n",
              "                                          n_jobs=None, penalty='l2',\n",
              "                                          random_state=None, solver='liblinear',\n",
              "                                          tol=0.0001, verbose=0,\n",
              "                                          warm_start=False),\n",
              "             iid='deprecated', n_jobs=None,\n",
              "             param_grid={'C': [0.1, 0.01, 0.001, 10, 1]},\n",
              "             pre_dispatch='2*n_jobs', refit=True, return_train_score=False,\n",
              "             scoring=None, verbose=0)"
            ]
          },
          "metadata": {
            "tags": []
          },
          "execution_count": 165
        }
      ]
    },
    {
      "cell_type": "code",
      "metadata": {
        "id": "E9bs-VtXJjgN",
        "outputId": "9f1fb246-cb37-4721-d916-74cefeadeb54",
        "colab": {
          "base_uri": "https://localhost:8080/"
        }
      },
      "source": [
        "gsc.best_params_"
      ],
      "execution_count": 166,
      "outputs": [
        {
          "output_type": "execute_result",
          "data": {
            "text/plain": [
              "{'C': 0.01}"
            ]
          },
          "metadata": {
            "tags": []
          },
          "execution_count": 166
        }
      ]
    },
    {
      "cell_type": "code",
      "metadata": {
        "id": "C1azR2AIJjgR",
        "outputId": "f2278a7e-be07-43c8-867f-3f52421512ae",
        "colab": {
          "base_uri": "https://localhost:8080/"
        }
      },
      "source": [
        "gsc.best_score_"
      ],
      "execution_count": 167,
      "outputs": [
        {
          "output_type": "execute_result",
          "data": {
            "text/plain": [
              "0.859407596658426"
            ]
          },
          "metadata": {
            "tags": []
          },
          "execution_count": 167
        }
      ]
    },
    {
      "cell_type": "code",
      "metadata": {
        "id": "vir4OErRJjgW",
        "outputId": "9c531162-1c85-4938-949d-2c6e17a6dd2a",
        "colab": {
          "base_uri": "https://localhost:8080/"
        }
      },
      "source": [
        "gsc.score(X_test, y_test)"
      ],
      "execution_count": 168,
      "outputs": [
        {
          "output_type": "execute_result",
          "data": {
            "text/plain": [
              "0.854"
            ]
          },
          "metadata": {
            "tags": []
          },
          "execution_count": 168
        }
      ]
    },
    {
      "cell_type": "markdown",
      "metadata": {
        "id": "8vtA0WrQJjga"
      },
      "source": [
        "### Using Support Vector:"
      ]
    },
    {
      "cell_type": "code",
      "metadata": {
        "id": "j9BgTorCJjgb"
      },
      "source": [
        "from sklearn.svm import SVC"
      ],
      "execution_count": 169,
      "outputs": []
    },
    {
      "cell_type": "code",
      "metadata": {
        "id": "UlTuUU6aJjge"
      },
      "source": [
        "svc = SVC(C=10)"
      ],
      "execution_count": 170,
      "outputs": []
    },
    {
      "cell_type": "code",
      "metadata": {
        "id": "sGuUAUfnJjgj",
        "outputId": "c2c4b524-f015-4706-b381-ea8f98521593",
        "colab": {
          "base_uri": "https://localhost:8080/"
        }
      },
      "source": [
        "model_testing(svc)"
      ],
      "execution_count": 171,
      "outputs": [
        {
          "output_type": "stream",
          "text": [
            "Training Accuracy:  0.9537076725246464 \n",
            "\n",
            "Testing Accuracy:  0.926 \n",
            "\n",
            "              precision    recall  f1-score   support\n",
            "\n",
            "           0       0.94      0.98      0.96       857\n",
            "           1       0.82      0.62      0.70       143\n",
            "\n",
            "    accuracy                           0.93      1000\n",
            "   macro avg       0.88      0.80      0.83      1000\n",
            "weighted avg       0.92      0.93      0.92      1000\n",
            "\n"
          ],
          "name": "stdout"
        },
        {
          "output_type": "execute_result",
          "data": {
            "text/plain": [
              "array([1, 1, 1, ..., 1, 1, 1])"
            ]
          },
          "metadata": {
            "tags": []
          },
          "execution_count": 171
        }
      ]
    },
    {
      "cell_type": "markdown",
      "metadata": {
        "id": "Ofu_BPA1Jjgq"
      },
      "source": [
        "### Using Random Forest"
      ]
    },
    {
      "cell_type": "code",
      "metadata": {
        "id": "dI8i3-lIJjgr"
      },
      "source": [
        "from sklearn.ensemble import RandomForestClassifier"
      ],
      "execution_count": 172,
      "outputs": []
    },
    {
      "cell_type": "code",
      "metadata": {
        "id": "TwobHmdVJjgv"
      },
      "source": [
        "rfc = RandomForestClassifier(n_estimators=200)"
      ],
      "execution_count": 173,
      "outputs": []
    },
    {
      "cell_type": "code",
      "metadata": {
        "id": "zBXTfg3XJjg0",
        "outputId": "5de77a43-fe7a-4a63-81df-abbbf5cd20e4",
        "colab": {
          "base_uri": "https://localhost:8080/"
        }
      },
      "source": [
        "model_testing(rfc)"
      ],
      "execution_count": 174,
      "outputs": [
        {
          "output_type": "stream",
          "text": [
            "Training Accuracy:  1.0 \n",
            "\n",
            "Testing Accuracy:  0.94 \n",
            "\n",
            "              precision    recall  f1-score   support\n",
            "\n",
            "           0       0.94      0.99      0.97       857\n",
            "           1       0.91      0.64      0.75       143\n",
            "\n",
            "    accuracy                           0.94      1000\n",
            "   macro avg       0.93      0.82      0.86      1000\n",
            "weighted avg       0.94      0.94      0.94      1000\n",
            "\n"
          ],
          "name": "stdout"
        },
        {
          "output_type": "execute_result",
          "data": {
            "text/plain": [
              "array([0, 0, 0, ..., 0, 0, 0])"
            ]
          },
          "metadata": {
            "tags": []
          },
          "execution_count": 174
        }
      ]
    },
    {
      "cell_type": "code",
      "metadata": {
        "id": "hMAU9PdLXyMn",
        "outputId": "d987366d-1132-4ea3-f6e9-ff3b3ee7947b",
        "colab": {
          "base_uri": "https://localhost:8080/"
        }
      },
      "source": [
        "rfc.predict_proba(X_train)"
      ],
      "execution_count": 177,
      "outputs": [
        {
          "output_type": "execute_result",
          "data": {
            "text/plain": [
              "array([[0.98, 0.02],\n",
              "       [0.99, 0.01],\n",
              "       [1.  , 0.  ],\n",
              "       ...,\n",
              "       [0.97, 0.03],\n",
              "       [1.  , 0.  ],\n",
              "       [0.98, 0.02]])"
            ]
          },
          "metadata": {
            "tags": []
          },
          "execution_count": 177
        }
      ]
    },
    {
      "cell_type": "code",
      "metadata": {
        "id": "YXBQGkICXyJb",
        "outputId": "8ec730e2-bb53-4638-fe92-411a2e1c0bb3",
        "colab": {
          "base_uri": "https://localhost:8080/"
        }
      },
      "source": [
        "confusion_matrix(y_train, rfc.predict(X_train))"
      ],
      "execution_count": 178,
      "outputs": [
        {
          "output_type": "execute_result",
          "data": {
            "text/plain": [
              "array([[1993,    0],\n",
              "       [   0,  340]])"
            ]
          },
          "metadata": {
            "tags": []
          },
          "execution_count": 178
        }
      ]
    },
    {
      "cell_type": "code",
      "metadata": {
        "id": "GleIrlwmYhMH",
        "outputId": "e3f003d8-8367-4ba5-fd71-9407cbf9ac56",
        "colab": {
          "base_uri": "https://localhost:8080/",
          "height": 283
        }
      },
      "source": [
        "con_matrix = confusion_matrix(y_train, rfc.predict(X_train))\n",
        "sns.heatmap(con_matrix, annot=True)"
      ],
      "execution_count": 179,
      "outputs": [
        {
          "output_type": "execute_result",
          "data": {
            "text/plain": [
              "<matplotlib.axes._subplots.AxesSubplot at 0x7f596580e390>"
            ]
          },
          "metadata": {
            "tags": []
          },
          "execution_count": 179
        },
        {
          "output_type": "display_data",
          "data": {
            "image/png": "[encoded data removed]",
            "text/plain": [
              "<Figure size 432x288 with 2 Axes>"
            ]
          },
          "metadata": {
            "tags": []
          }
        }
      ]
    },
    {
      "cell_type": "markdown",
      "metadata": {
        "id": "3w3UUekvJjg3"
      },
      "source": [
        "### Using KNearest Classifier"
      ]
    },
    {
      "cell_type": "code",
      "metadata": {
        "id": "xGFJdx17Jjg4"
      },
      "source": [
        "from sklearn.neighbors import KNeighborsClassifier"
      ],
      "execution_count": 180,
      "outputs": []
    },
    {
      "cell_type": "code",
      "metadata": {
        "id": "ik1mR-S3Jjg7"
      },
      "source": [
        "knn = KNeighborsClassifier()"
      ],
      "execution_count": 181,
      "outputs": []
    },
    {
      "cell_type": "code",
      "metadata": {
        "id": "GhaaTau5JjhD",
        "outputId": "7847e446-14ce-4359-958f-f380447a8008",
        "colab": {
          "base_uri": "https://localhost:8080/"
        }
      },
      "source": [
        "model_testing(knn)"
      ],
      "execution_count": 182,
      "outputs": [
        {
          "output_type": "stream",
          "text": [
            "Training Accuracy:  0.9177025289327047 \n",
            "\n",
            "Testing Accuracy:  0.897 \n",
            "\n",
            "              precision    recall  f1-score   support\n",
            "\n",
            "           0       0.90      0.99      0.94       857\n",
            "           1       0.87      0.33      0.48       143\n",
            "\n",
            "    accuracy                           0.90      1000\n",
            "   macro avg       0.88      0.66      0.71      1000\n",
            "weighted avg       0.89      0.90      0.88      1000\n",
            "\n"
          ],
          "name": "stdout"
        },
        {
          "output_type": "execute_result",
          "data": {
            "text/plain": [
              "array([0, 0, 0, ..., 0, 0, 0])"
            ]
          },
          "metadata": {
            "tags": []
          },
          "execution_count": 182
        }
      ]
    },
    {
      "cell_type": "code",
      "metadata": {
        "id": "9hHZC_qOJjhI"
      },
      "source": [
        "from sklearn.ensemble import GradientBoostingClassifier"
      ],
      "execution_count": 184,
      "outputs": []
    },
    {
      "cell_type": "code",
      "metadata": {
        "id": "gYNGEcTjJjhR"
      },
      "source": [
        "gbc = GradientBoostingClassifier()"
      ],
      "execution_count": 185,
      "outputs": []
    },
    {
      "cell_type": "code",
      "metadata": {
        "id": "qVC2qVbbeRR3",
        "outputId": "8023fd56-5f1e-4422-c9b3-55d8e31c14c2",
        "colab": {
          "base_uri": "https://localhost:8080/"
        }
      },
      "source": [
        "model_testing(gbc)"
      ],
      "execution_count": 186,
      "outputs": [
        {
          "output_type": "stream",
          "text": [
            "Training Accuracy:  0.9558508358336906 \n",
            "\n",
            "Testing Accuracy:  0.943 \n",
            "\n",
            "              precision    recall  f1-score   support\n",
            "\n",
            "           0       0.95      0.99      0.97       857\n",
            "           1       0.89      0.69      0.77       143\n",
            "\n",
            "    accuracy                           0.94      1000\n",
            "   macro avg       0.92      0.84      0.87      1000\n",
            "weighted avg       0.94      0.94      0.94      1000\n",
            "\n"
          ],
          "name": "stdout"
        },
        {
          "output_type": "execute_result",
          "data": {
            "text/plain": [
              "array([0, 0, 0, ..., 0, 0, 0])"
            ]
          },
          "metadata": {
            "tags": []
          },
          "execution_count": 186
        }
      ]
    },
    {
      "cell_type": "code",
      "metadata": {
        "id": "hJIvRrSSeSOU",
        "outputId": "58d83898-ef9f-4cd8-80f1-edc3867c871a",
        "colab": {
          "base_uri": "https://localhost:8080/"
        }
      },
      "source": [
        "gbc.predict_proba(X_train)"
      ],
      "execution_count": 187,
      "outputs": [
        {
          "output_type": "execute_result",
          "data": {
            "text/plain": [
              "array([[0.9695272 , 0.0304728 ],\n",
              "       [0.98226016, 0.01773984],\n",
              "       [0.98200879, 0.01799121],\n",
              "       ...,\n",
              "       [0.96899374, 0.03100626],\n",
              "       [0.97073232, 0.02926768],\n",
              "       [0.98668541, 0.01331459]])"
            ]
          },
          "metadata": {
            "tags": []
          },
          "execution_count": 187
        }
      ]
    },
    {
      "cell_type": "code",
      "metadata": {
        "id": "mKYptTJ6eRNO",
        "outputId": "75f3cc84-019f-4708-944a-3d441b6a762d",
        "colab": {
          "base_uri": "https://localhost:8080/"
        }
      },
      "source": [
        "confusion_matrix(y_train, gbc.predict(X_train))"
      ],
      "execution_count": 188,
      "outputs": [
        {
          "output_type": "execute_result",
          "data": {
            "text/plain": [
              "array([[1980,   13],\n",
              "       [  90,  250]])"
            ]
          },
          "metadata": {
            "tags": []
          },
          "execution_count": 188
        }
      ]
    },
    {
      "cell_type": "code",
      "metadata": {
        "id": "Keb7MezUgxkE",
        "outputId": "1b952748-ac7d-4f58-80ce-579646c9ace2",
        "colab": {
          "base_uri": "https://localhost:8080/",
          "height": 283
        }
      },
      "source": [
        "con_matrix = confusion_matrix(y_train, gbc.predict(X_train))\n",
        "sns.heatmap(con_matrix, annot=True)"
      ],
      "execution_count": 189,
      "outputs": [
        {
          "output_type": "execute_result",
          "data": {
            "text/plain": [
              "<matplotlib.axes._subplots.AxesSubplot at 0x7f59657906d8>"
            ]
          },
          "metadata": {
            "tags": []
          },
          "execution_count": 189
        },
        {
          "output_type": "display_data",
          "data": {
            "image/png": "[encoded data removed]",
            "text/plain": [
              "<Figure size 432x288 with 2 Axes>"
            ]
          },
          "metadata": {
            "tags": []
          }
        }
      ]
    },
    {
      "cell_type": "markdown",
      "metadata": {
        "id": "7DXkwSj5JjhW"
      },
      "source": [
        "# Evaluation\n",
        "\n",
        "- Select the best performing model and write your comments about why choose this model.\n",
        "- Analyse results and make comment about how you can improve model."
      ]
    },
    {
      "cell_type": "markdown",
      "metadata": {
        "id": "o1dsuyi3SiGo"
      },
      "source": [
        "The best performing model is **Random Forest** with:\n",
        "Training Accuracy:  1.0 \n",
        "\n",
        "Testing Accuracy:  0.938\n",
        "\n"
      ]
    },
    {
      "cell_type": "markdown",
      "metadata": {
        "id": "U58Dcfv5SsR7"
      },
      "source": [
        "Hypertuning the model would improve it"
      ]
    }
  ]
}